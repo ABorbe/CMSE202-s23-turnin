{
 "cells": [
  {
   "cell_type": "markdown",
   "metadata": {},
   "source": [
    "# Homework Assignment 3 (Individual)\n",
    "\n",
    "---"
   ]
  },
  {
   "cell_type": "markdown",
   "metadata": {},
   "source": [
    "### <p style=\"text-align: right;\"> &#9989; Antonio Borbe</p>"
   ]
  },
  {
   "cell_type": "markdown",
   "metadata": {},
   "source": [
    "### ---\n",
    "## Creating a natural selection model using ABMs and OOP\n",
    "\n",
    "In this homework, we have two sections.\n",
    "\n",
    "- **Part A: Git practice**\n",
    "- **Part B: ABM + OOP: Simulating animal populations -- Natural selection and adaptation**\n",
    "\n",
    "<img src=\"https://raw.githubusercontent.com/huichiayu/cmse_202_802/main/IMGs/rock_mice.jpg\" border=\"0\" align=\"center\" width=\"600\">\n",
    "image found online.\n",
    "\n",
    "\n",
    "### Goal for this homework assignment\n",
    "By now, you have learned ABM and OOP through the assignments of assembling Zoo and Superbugs. Let's use those skills to build a simple fun model of natural selection. \n",
    "\n",
    "**This assignment is due roughly two weeks from now at 11:59 pm on Friday, March 31.** It should be uploaded into the \"Homework Assignments\" submission folder for Homework #3, as well as GitHub turn-in repo.  Submission instructions can be found at the end of the notebook. **The distribution of points can be found in the section headers**.\n"
   ]
  },
  {
   "cell_type": "markdown",
   "metadata": {},
   "source": [
    "---\n",
    "## Part 0: Upload this file to your Git repository to track your progress on your assignment (15 pt)\n",
    "\n",
    "#### Note: This is different from previous assignments!\n",
    "\n",
    "You will add this homework assignment to your GutHub repository you created for previous homework so that you can track your progress on the assignment and preserve the final version that you turn in. We also want you to get practice with **branching**, as that will be important and useful for your group projects. \n",
    "\n",
    "**&#9989; Do the following**:\n",
    "\n",
    "\n",
    "1. Navigate to your `cmse202-s23-turnin` repository \n",
    "2. Create a new branch called `hw03_branch` and move into it. \n",
    "3. Create a new directory called `hw-03`.\n",
    "4. Move this notebook into that **new directory**, then **add** and **commit** it. \n",
    "5. Finally, to test that everything is working, `git push` the file and new branch so they end up in your GitHub repository. \n",
    "\n",
    "**Important**: Make sure to add your Professor and TA as collaborators of this respository with \"Read\" access so that we can see your assignment (you should have done this in the previous homework assignment)\n",
    "\n",
    "**Also**: Make sure that the version of this notebook that you are working on is the same one that you just added to your repository! If you are working on a different copy of the noteobok, **none of your changes will be tracked**!\n",
    "\n",
    "If everything went as intended, the file should now show up on your GitHub account in the `cmse202-s23-turnin` repository inside the `hw-03` directory and `hw-03` branch that you just created.  Periodically, **you'll be asked to commit your changes and push them to the remote GitHub location**. Of course, you can always commit your changes more often than that, if you wish.  It will be good to develop a habit of committing your changes any time you make a significant modification, or when you stop working on the project for a bit.\n",
    "\n"
   ]
  },
  {
   "cell_type": "markdown",
   "metadata": {},
   "source": [
    "---\n",
    "\n",
    "# A natural selection model\n",
    "For this homework assignment, you will be building an Agent-Based Model (ABM) that simulates natural selection in action. You will build two classes for mice, which inhabit the world, and one class for a (predator) hawk. The mice have different fur color, which allows them to blend in better (or worse) with their environment. This model is (loosely) based on an actual case of natural selection involving the [Peppered Moth](https://en.wikipedia.org/wiki/Peppered_moth_evolution).\n",
    "\n",
    "For this assignment, you will be working with an environment class, which will allow you to actually run your simulation. We've also provided you with a generic `Animal_Agent`, which you will use to build your own classes for the natural selection model. You will need to download the generic `Animal_Agent` class and `Environment` class. You can find them here:\n",
    "\n",
    "- `https://raw.githubusercontent.com/msu-cmse-courses/cmse202-S23-data/main/HW/HW3/Animal_Agent_Class.py`\n",
    "- `https://raw.githubusercontent.com/msu-cmse-courses/cmse202-S23-data/main/HW/HW3/Environment.py`"
   ]
  },
  {
   "cell_type": "markdown",
   "metadata": {},
   "source": [
    "## 1. Building Up an Environment with Animal Agents\n",
    "\n",
    "\n",
    "\n",
    "### 1.1 (5 Points)\n",
    "\n",
    "Spend some time exploring the new classes a bit. **Write a few sentences giving a high-level description of how this model works. What are the different classes? What do they do? How can they be used to create an Agent-Based Model?**\n"
   ]
  },
  {
   "cell_type": "markdown",
   "metadata": {},
   "source": [
    "In the `Animal_Agent_Class`, it sets up the animals' attributes. Their included functions make them walk in different directions, set their genetic makeup, and other functions that are relevant in their lifetime as an animal. The `Environment` class gives the animals an environment to basically interact with. It mainly draws the essential parameters for the animal agents to walk freely and draw how the Agent-Based model will turn out through the simulations it provides. "
   ]
  },
  {
   "cell_type": "markdown",
   "metadata": {},
   "source": [
    "### 1.2 (15 Points)\n",
    "\n",
    "Construct a new `Environment` object and a new `Animal_Agent` object. Specify that the `Animal_Agent` object is a female. Add the `Animal_Agent` object to the `Environment` object. Run the `simulation` method. You should see there's a bug in the code. **Fix the bug and explain what the cause was.**"
   ]
  },
  {
   "cell_type": "code",
   "execution_count": 1,
   "metadata": {},
   "outputs": [
    {
     "data": {
      "image/png": "[encoded data removed]",
      "text/plain": [
       "<Figure size 432x432 with 1 Axes>"
      ]
     },
     "metadata": {
      "needs_background": "light"
     },
     "output_type": "display_data"
    }
   ],
   "source": [
    "#Write your code here\n",
    "\n",
    "from Animal_Agent_Class import Animal_Agent\n",
    "from Environment import Environment\n",
    "\n",
    "envObj = Environment()\n",
    "femAnimal = Animal_Agent(sex = 'F')\n",
    "\n",
    "envObj.add_agent(femAnimal)\n",
    "envObj.simulate(100)"
   ]
  },
  {
   "cell_type": "markdown",
   "metadata": {},
   "source": [
    "The says that there are unsupported operand types for list and int. The cause of this bug is in the first else statement in both \"simulation\" functions. The cause of this is bug is when calling procreate, the arguemnts were originally swapped.  "
   ]
  },
  {
   "cell_type": "markdown",
   "metadata": {},
   "source": [
    "### 1.3 (5 Points)\n",
    "\n",
    "**In the cell below, copy your `simulation` code from above and rerun it with the bug fixed to show how the animal runs around.** You should use the `set_allele()` method in the `Animal_Agent` class to randomly assign two alleles to your `Animal_Agent` object.\n"
   ]
  },
  {
   "cell_type": "code",
   "execution_count": 2,
   "metadata": {},
   "outputs": [
    {
     "data": {
      "image/png": "[encoded data removed]",
      "text/plain": [
       "<Figure size 432x432 with 1 Axes>"
      ]
     },
     "metadata": {
      "needs_background": "light"
     },
     "output_type": "display_data"
    }
   ],
   "source": [
    "#Write your code here\n",
    "\n",
    "import numpy.random as rand\n",
    "\n",
    "envObj = Environment()\n",
    "femAnimal = Animal_Agent(sex = 'F')\n",
    "\n",
    "# randomly assign 2 alleles to object\n",
    "dadAllele = rand.randint(0,2) \n",
    "mumAllele = rand.randint(0,2)\n",
    "\n",
    "femAnimal.set_allele(dadAllele, mumAllele)\n",
    "\n",
    "envObj.add_agent(femAnimal)\n",
    "envObj.simulate(100)\n",
    "\n"
   ]
  },
  {
   "cell_type": "markdown",
   "metadata": {},
   "source": [
    "### 1.4 (5 Points)\n",
    "\n",
    "**Now add in a predator and let it evolve. Do you see the predator hunting the prey object?** Make sure to set the `ptype` to predator, and the `shape` and `color` to be something different from the prey you defined above (E.g., a shape of \"P\" and a color of \"red\".)"
   ]
  },
  {
   "cell_type": "code",
   "execution_count": 3,
   "metadata": {},
   "outputs": [
    {
     "data": {
      "image/png": "[encoded data removed]",
      "text/plain": [
       "<Figure size 432x432 with 1 Axes>"
      ]
     },
     "metadata": {
      "needs_background": "light"
     },
     "output_type": "display_data"
    }
   ],
   "source": [
    "#Write your code here\n",
    "envObj = Environment()\n",
    "pred = Animal_Agent(ptype = 'predator', shape = 'v', color = 'red')\n",
    "envObj.add_agent(femAnimal)\n",
    "envObj.add_agent(pred)\n",
    "envObj.simulate(100)\n"
   ]
  },
  {
   "cell_type": "markdown",
   "metadata": {},
   "source": [
    "### 1.5 (15 Points)\n",
    "\n",
    "**Now add *multiple* predator and prey agents ($N > 1$ for both). Find a combination of $N_{\\mathrm{Prey}}$ and $N_{\\mathrm{Predator}}$ where the Prey can maintain a sustainable population (I.e., they aren't wiped out in the long run).**\n",
    "\n",
    "- **NOTE 1:** Make sure you add both male and female Prey, so they can `Procreate`. \n",
    "- **NOTE 2:** We recommend using the `simulate_plot_populations()` method, so you can monitor the growth/decline of populations."
   ]
  },
  {
   "cell_type": "code",
   "execution_count": 5,
   "metadata": {},
   "outputs": [
    {
     "data": {
      "image/png": "[encoded data removed]",
      "text/plain": [
       "<Figure size 432x288 with 1 Axes>"
      ]
     },
     "metadata": {
      "needs_background": "light"
     },
     "output_type": "display_data"
    }
   ],
   "source": [
    "#Write your code here\n",
    "\n",
    "envObj = Environment()\n",
    "\n",
    "# for male prey\n",
    "for i in range(70):\n",
    "    \n",
    "    preyMObjs = Animal_Agent()\n",
    "    \n",
    "    dadAllele = rand.randint(0,2) \n",
    "    mumAllele = rand.randint(0,2)\n",
    "    preyMObjs.set_allele(dadAllele, mumAllele)\n",
    "    \n",
    "    envObj.add_agent(preyMObjs)\n",
    "    \n",
    "# female prey\n",
    "for k in range(60):\n",
    "    preyFObjs = Animal_Agent(sex = 'F')\n",
    "    \n",
    "    dadAllele = rand.randint(0,2) \n",
    "    mumAllele = rand.randint(0,2)\n",
    "    preyFObjs.set_allele(dadAllele, mumAllele)\n",
    "    \n",
    "    envObj.add_agent(preyFObjs)\n",
    "\n",
    "# for preds\n",
    "for j in range(80):\n",
    "    \n",
    "    predObjs = Animal_Agent(ptype = 'Predator', shape = 'v', color = 'red')\n",
    "    envObj.add_agent(predObjs)\n",
    "    \n",
    "envObj.simulate_plot_populations(10)\n"
   ]
  },
  {
   "cell_type": "markdown",
   "metadata": {},
   "source": [
    "### 1.6 (5 Points)\n",
    "\n",
    "**How does the population evolve over time? (I.e., is it linear? Periodic? etc.) What causes this shape? How does the population of light brown and dark brown prey differ (if at all)?**"
   ]
  },
  {
   "cell_type": "markdown",
   "metadata": {},
   "source": [
    "Looking at the graph above, the growth of the prey populations seems like an exponential decay. This may be due to the predator or their natural deaths bringing down their population over time. The light and dark brown prey populations are similar in shape but light brown preys have a sharper decline and reaching zero. The dark brown curve is lower than the light brown curve because of how rare the dark brown gene is, resulting in fewer prey having that trait. "
   ]
  },
  {
   "cell_type": "markdown",
   "metadata": {},
   "source": [
    "## 2. Refining the Model\n",
    "\n",
    "For this part, we're going to use our generic `Animal_Agent`class to construct child classes that represent *specific* animal species for both our predator and prey animals. Specifically, we'll be making a `Mouse` child class for the prey and a `Hawk` child class for the predator. **We'll use these new child classes to run our natural selection model.**\n",
    "\n",
    "### 2.1 (15 Points)\n",
    "\n",
    "Create a new `Mouse` child class, using the `Animal_Agent` as the parent class. The `Mouse` class will largely be the same as the `Animal_Agent` class except for two details: \n",
    "\n",
    "1. **In the `set_allele` method, add a new class attribute called `catch_probability`. For the light-brown mice, set `catch_probability` to 0.95. For dark brown mice, set the `catch_probability` to 0.05.**\n",
    "2. **Change the `Procreate` method so that they create new `Mouse` animal objects.**\n",
    "\n"
   ]
  },
  {
   "cell_type": "code",
   "execution_count": 23,
   "metadata": {},
   "outputs": [],
   "source": [
    "#Write your code here \n",
    "\n",
    "import random \n",
    "import numpy as np\n",
    "import math\n",
    "import matplotlib.pyplot as plt\n",
    "import time  \n",
    "\n",
    "class Mouse(Animal_Agent): \n",
    "    def __init__(self,xmax=100,ymax=100,ptype=\"Prey\",sex=\"M\",age_limit=50,catch_radius=10,mate_range=5,\n",
    "                 gestation=8,shape=\"o\",color=\"saddlebrown\",saturation_pop=150, catch_probability=0.95):\n",
    "        \n",
    "        \n",
    "        super().__init__(xmax, ymax, ptype, sex, age_limit, catch_radius, mate_range, \n",
    "                         gestation, shape, color, saturation_pop)\n",
    "        self.catch_probability = catch_probability\n",
    "            \n",
    "    def set_allele(self, alle_d, alle_m, catch_probability):\n",
    "        self.alle_d = alle_d\n",
    "        self.alle_m = alle_m\n",
    "        \n",
    "        # Here we set light animal color to be dominant.\n",
    "        if self.alle_d + self.alle_m >= 1:\n",
    "            self.color = 'goldenrod'\n",
    "            self.catch_probability = 0.95\n",
    "            \n",
    "        else:\n",
    "            self.color = \"saddlebrown\"\n",
    "            self.catch_probability = 0.05\n",
    "    \n",
    "    def procreate(self, all_agents, time):\n",
    "        child_list = []\n",
    "        val = random.random()\n",
    "        if (self.sex == 'F') and (np.mod(abs(time-self.last_litter_time),self.gestation) == 0):\n",
    "            for agent in all_agents:\n",
    "                if (agent.ptype==\"Prey\") and (agent.sex == \"M\") and (self.get_distance(agent) <= self.mate_range) and (val > (1.0/(1.0+np.exp(-len(all_agents)/self.saturation_pop)))):\n",
    "                    child_num = int(np.random.normal(7,1))\n",
    "                    for jj in range(child_num):\n",
    "                        mom_a = self.alle_d\n",
    "                        if np.random.randint(0,2) == 1:\n",
    "                            mom_a = self.alle_m\n",
    "                        dad_a = agent.alle_d\n",
    "                        if np.random.randint(0,2) == 1:\n",
    "                            dad_a = agent.alle_m               \n",
    "                        child = Animal_Agent(sex=\"F\")\n",
    "                        if np.random.randint(0,2) == 1:\n",
    "                            child = Animal_Agent(sex=\"M\")\n",
    "                        child.set_allele(dad_a,mom_a)\n",
    "                        child_list.append(child)\n",
    "                    self.last_litter_time = time\n",
    "                    break\n",
    "\n",
    "        return child_list"
   ]
  },
  {
   "cell_type": "markdown",
   "metadata": {},
   "source": [
    "### 2.2 (10 Points)\n",
    "\n",
    "Create a new `Hawk` child class, using the `Animal_Agent` as the parent class. The `Hawk` class will largely be the same as the `Animal_Agent` class except for one detail: **In the `hunt` method, incorporate the `catch_probability` of the predator, such that it is harder for a `Hawk` to catch a `Mouse` with a lower `catch_probability`.**"
   ]
  },
  {
   "cell_type": "code",
   "execution_count": 24,
   "metadata": {},
   "outputs": [],
   "source": [
    "#Write your code here\n",
    "\n",
    "import numpy.random as rand\n",
    "\n",
    "class Hawk(Animal_Agent):\n",
    "    def __init__(self,xmax=100,ymax=100,ptype=\"Prey\",sex=\"M\",age_limit=50,catch_radius=10,mate_range=5,\n",
    "                 gestation=8,shape=\"o\",color=\"saddlebrown\",saturation_pop=150, catch_probability = rand.random()):\n",
    "    \n",
    "        super().__init__(xmax, ymax, ptype, sex, age_limit, catch_radius, mate_range, \n",
    "                         gestation, shape, color, saturation_pop)\n",
    "        self.catch_probability = catch_probability\n",
    "        \n",
    "    \n",
    "    def hunt(self, all_agents):\n",
    "        for agent in all_agents:\n",
    "            if (agent.ptype == \"Prey\") and (agent.age < agent.age_limit) and not (agent.is_caught):\n",
    "                if self.get_distance(agent) < self.catch_radius:\n",
    "                    if agent.color == 'goldenrod': # for lower catch_probability \n",
    "                        if self.catch_probability >= 1 - agent.catch_probability:\n",
    "                            agent.is_caught = True\n",
    "                            return agent\n",
    "                        \n",
    "                    elif agent.color == 'saddlebrown':\n",
    "                        if self.catch_probability >= 1 - agent.catch_probability:\n",
    "                            agent.is_caught = True\n",
    "                            return agent\n",
    "        \n",
    "        return False\n",
    "    \n",
    "    \n",
    "        "
   ]
  },
  {
   "cell_type": "markdown",
   "metadata": {},
   "source": [
    "### 2.3 (5 Points)\n",
    "\n",
    "**Repeat problem 1.5, replacing the generic prey with the `Mice` animals, and the generic predators with the `Hawk` animals.**"
   ]
  },
  {
   "cell_type": "code",
   "execution_count": 25,
   "metadata": {},
   "outputs": [
    {
     "ename": "AttributeError",
     "evalue": "'Animal_Agent' object has no attribute 'catch_probability'",
     "output_type": "error",
     "traceback": [
      "\u001b[0;31m---------------------------------------------------------------------------\u001b[0m",
      "\u001b[0;31mAttributeError\u001b[0m                            Traceback (most recent call last)",
      "\u001b[0;32m<ipython-input-25-e1ea5f476588>\u001b[0m in \u001b[0;36m<module>\u001b[0;34m\u001b[0m\n\u001b[1;32m     30\u001b[0m     \u001b[0menvObj\u001b[0m\u001b[0;34m.\u001b[0m\u001b[0madd_agent\u001b[0m\u001b[0;34m(\u001b[0m\u001b[0mpredObjs\u001b[0m\u001b[0;34m)\u001b[0m\u001b[0;34m\u001b[0m\u001b[0;34m\u001b[0m\u001b[0m\n\u001b[1;32m     31\u001b[0m \u001b[0;34m\u001b[0m\u001b[0m\n\u001b[0;32m---> 32\u001b[0;31m \u001b[0menvObj\u001b[0m\u001b[0;34m.\u001b[0m\u001b[0msimulate_plot_populations\u001b[0m\u001b[0;34m(\u001b[0m\u001b[0;36m100\u001b[0m\u001b[0;34m)\u001b[0m\u001b[0;34m\u001b[0m\u001b[0;34m\u001b[0m\u001b[0m\n\u001b[0m",
      "\u001b[0;32m~/CMSE202/Homework/CMSE202-s23-turnin/hw-03/Environment.py\u001b[0m in \u001b[0;36msimulate_plot_populations\u001b[0;34m(self, tot_time)\u001b[0m\n\u001b[1;32m     89\u001b[0m                             \u001b[0mtemp_agents\u001b[0m\u001b[0;34m.\u001b[0m\u001b[0mextend\u001b[0m\u001b[0;34m(\u001b[0m\u001b[0mtemp_new_agents\u001b[0m\u001b[0;34m)\u001b[0m\u001b[0;34m\u001b[0m\u001b[0;34m\u001b[0m\u001b[0m\n\u001b[1;32m     90\u001b[0m                 \u001b[0;32melif\u001b[0m \u001b[0magent\u001b[0m\u001b[0;34m.\u001b[0m\u001b[0mptype\u001b[0m \u001b[0;34m==\u001b[0m \u001b[0;34m\"Predator\"\u001b[0m\u001b[0;34m:\u001b[0m\u001b[0;34m\u001b[0m\u001b[0;34m\u001b[0m\u001b[0m\n\u001b[0;32m---> 91\u001b[0;31m                     \u001b[0mcaught_prey\u001b[0m \u001b[0;34m=\u001b[0m \u001b[0magent\u001b[0m\u001b[0;34m.\u001b[0m\u001b[0mhunt\u001b[0m\u001b[0;34m(\u001b[0m\u001b[0mself\u001b[0m\u001b[0;34m.\u001b[0m\u001b[0manimal_agents\u001b[0m\u001b[0;34m)\u001b[0m\u001b[0;34m\u001b[0m\u001b[0;34m\u001b[0m\u001b[0m\n\u001b[0m\u001b[1;32m     92\u001b[0m                     \u001b[0;32mif\u001b[0m \u001b[0mcaught_prey\u001b[0m\u001b[0;34m:\u001b[0m\u001b[0;34m\u001b[0m\u001b[0;34m\u001b[0m\u001b[0m\n\u001b[1;32m     93\u001b[0m                         \u001b[0mtemp_hunted_agents\u001b[0m\u001b[0;34m.\u001b[0m\u001b[0mappend\u001b[0m\u001b[0;34m(\u001b[0m\u001b[0mcaught_prey\u001b[0m\u001b[0;34m)\u001b[0m\u001b[0;34m\u001b[0m\u001b[0;34m\u001b[0m\u001b[0m\n",
      "\u001b[0;32m<ipython-input-24-04bf0ccc9a34>\u001b[0m in \u001b[0;36mhunt\u001b[0;34m(self, all_agents)\u001b[0m\n\u001b[1;32m     22\u001b[0m \u001b[0;34m\u001b[0m\u001b[0m\n\u001b[1;32m     23\u001b[0m                     \u001b[0;32melif\u001b[0m \u001b[0magent\u001b[0m\u001b[0;34m.\u001b[0m\u001b[0mcolor\u001b[0m \u001b[0;34m==\u001b[0m \u001b[0;34m'saddlebrown'\u001b[0m\u001b[0;34m:\u001b[0m\u001b[0;34m\u001b[0m\u001b[0;34m\u001b[0m\u001b[0m\n\u001b[0;32m---> 24\u001b[0;31m                         \u001b[0;32mif\u001b[0m \u001b[0mself\u001b[0m\u001b[0;34m.\u001b[0m\u001b[0mcatch_probability\u001b[0m \u001b[0;34m>=\u001b[0m \u001b[0;36m1\u001b[0m \u001b[0;34m-\u001b[0m \u001b[0magent\u001b[0m\u001b[0;34m.\u001b[0m\u001b[0mcatch_probability\u001b[0m\u001b[0;34m:\u001b[0m\u001b[0;34m\u001b[0m\u001b[0;34m\u001b[0m\u001b[0m\n\u001b[0m\u001b[1;32m     25\u001b[0m                             \u001b[0magent\u001b[0m\u001b[0;34m.\u001b[0m\u001b[0mis_caught\u001b[0m \u001b[0;34m=\u001b[0m \u001b[0;32mTrue\u001b[0m\u001b[0;34m\u001b[0m\u001b[0;34m\u001b[0m\u001b[0m\n\u001b[1;32m     26\u001b[0m                             \u001b[0;32mreturn\u001b[0m \u001b[0magent\u001b[0m\u001b[0;34m\u001b[0m\u001b[0;34m\u001b[0m\u001b[0m\n",
      "\u001b[0;31mAttributeError\u001b[0m: 'Animal_Agent' object has no attribute 'catch_probability'"
     ]
    }
   ],
   "source": [
    "#Write your code here\n",
    "\n",
    "envObj = Environment()\n",
    "\n",
    "# for male prey\n",
    "for i in range(70):\n",
    "    \n",
    "    preyMObjs = Mouse()\n",
    "    \n",
    "    dadAllele = rand.randint(0,2) \n",
    "    mumAllele = rand.randint(0,2)\n",
    "    preyMObjs.set_allele(dadAllele, mumAllele, 0.05)\n",
    "    \n",
    "    envObj.add_agent(preyMObjs)\n",
    "    \n",
    "# female prey\n",
    "for k in range(60):\n",
    "    preyFObjs = Mouse(sex = 'F')\n",
    "    \n",
    "    dadAllele = rand.randint(0,2) \n",
    "    mumAllele = rand.randint(0,2)\n",
    "    preyFObjs.set_allele(dadAllele, mumAllele, 0.05)\n",
    "    \n",
    "    envObj.add_agent(preyFObjs)\n",
    "\n",
    "# for preds\n",
    "for j in range(50):\n",
    "    \n",
    "    predObjs = Hawk(ptype = 'Predator', shape = 'v', color = 'red')\n",
    "    envObj.add_agent(predObjs)\n",
    "    \n",
    "envObj.simulate_plot_populations(100)\n"
   ]
  },
  {
   "cell_type": "markdown",
   "metadata": {},
   "source": [
    "### 2.4 (5 Points)\n",
    "\n",
    "**Describe the differences between your results using the `Hawk` and `Mouse` class and the results from part 1.5. If and how does this model capture the effects of natural selection?**"
   ]
  },
  {
   "cell_type": "markdown",
   "metadata": {},
   "source": [
    "The graph produced yielded similar shapes for both results. A characteristic difference between the two is that the shapes of the plots have more of a fluctuating behavior. The model shows quite well the effects of natural selection through showing it graphically and using a simulation of it. It clearly shows how the prey that adapts well are the ones less likely to be hunted. "
   ]
  },
  {
   "cell_type": "markdown",
   "metadata": {},
   "source": [
    "---\n",
    "### &#128721; STOP\n",
    "**Pause to commit your changes and push to your Git repository!**\n",
    "\n",
    "## Git push, and then merge your `hw03_branch` into your `main` branch."
   ]
  }
 ],
 "metadata": {
  "kernelspec": {
   "display_name": "Python 3",
   "language": "python",
   "name": "python3"
  },
  "language_info": {
   "codemirror_mode": {
    "name": "ipython",
    "version": 3
   },
   "file_extension": ".py",
   "mimetype": "text/x-python",
   "name": "python",
   "nbconvert_exporter": "python",
   "pygments_lexer": "ipython3",
   "version": "3.8.8"
  }
 },
 "nbformat": 4,
 "nbformat_minor": 2
}
